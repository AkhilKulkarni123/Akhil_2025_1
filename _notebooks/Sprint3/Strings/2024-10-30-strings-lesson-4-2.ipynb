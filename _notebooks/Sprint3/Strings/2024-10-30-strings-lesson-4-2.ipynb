{
 "cells": [
  {
   "cell_type": "code",
   "execution_count": null,
   "id": "901babb1",
   "metadata": {
    "vscode": {
     "languageId": "Javascript"
    }
   },
   "outputs": [],
   "source": [
    "---\n",
    "comments: true\n",
    "layout: post\n",
    "title: Strings and functions\n",
    "description: Strings and functions\n",
    "author: Matthew Borg\n",
    "permalink: /csse/lessons/strings/2024-10-30-strings-lesson-4-2.ipynb/\n",
    "categories: [Strings and Functions]\n",
    "---"
   ]
  },
  {
   "cell_type": "markdown",
   "id": "1062f58b",
   "metadata": {},
   "source": [
    "## Strings and Functions\n",
    "\n",
    "Some strings below can help find the instances of a certain word to replacing a word in a sentence at random\n"
   ]
  },
  {
   "cell_type": "markdown",
   "id": "13ec6077",
   "metadata": {},
   "source": [
    "* const lionFact = sets the value for lionFact\n",
    "* toLowerCase and toUpperCase makes the given sentence in lionFact entirely lowercase or Uppercase"
   ]
  },
  {
   "cell_type": "code",
   "execution_count": null,
   "id": "2e7fe24f",
   "metadata": {},
   "outputs": [],
   "source": [
    "// String Example and Case Conversion\n",
    "const lionFact = \"lions are the only cats that live in groups\";\n",
    "\n",
    "// Convert to lowercase and uppercase\n",
    "console.log(lionFact.toLowerCase());  // Lowercase\n",
    "console.log(lionFact.toUpperCase());  // Uppercase"
   ]
  },
  {
   "cell_type": "markdown",
   "id": "465fc2e8",
   "metadata": {},
   "source": [
    "lions are the only cats that live in groups\n",
    "\n",
    "LIONS ARE THE ONLY CATS THAT LIVE IN GROUPS"
   ]
  },
  {
   "cell_type": "markdown",
   "id": "26214145",
   "metadata": {},
   "source": [
    "## Occurrences\n",
    "* The .match() method returns all matches of the string \"the\" in tiger_fact using a regular expression (/the/g).\n",
    "\n",
    "* The g flag ensures that the following code finds all occurrences in the string, not just the first one."
   ]
  },
  {
   "cell_type": "code",
   "execution_count": null,
   "id": "4db746f6",
   "metadata": {},
   "outputs": [],
   "source": [
    "// Count occurrences of the word 'groups'\n",
    "let count = (lionFact.match(/the/g) || []).length;\n",
    "console.log(count); "
   ]
  },
  {
   "cell_type": "markdown",
   "id": "4604c864",
   "metadata": {},
   "source": [
    "## Finding Index\n",
    "* index is finding the first letter of a given word in a given const"
   ]
  },
  {
   "cell_type": "code",
   "execution_count": null,
   "id": "f5bd3d88",
   "metadata": {},
   "outputs": [],
   "source": [
    "// Example finding Index of a Substring\n",
    "console.log(lionFact.indexOf(\"group\"));  // Find the index of the word 'group'"
   ]
  },
  {
   "cell_type": "markdown",
   "id": "54ab8575",
   "metadata": {},
   "source": [
    "38"
   ]
  },
  {
   "cell_type": "markdown",
   "id": "3dfca524",
   "metadata": {},
   "source": [
    "The g in group was the 38th character in the lionFact "
   ]
  },
  {
   "cell_type": "markdown",
   "id": "094711ee",
   "metadata": {},
   "source": [
    "## Replacing Substrings\n",
    "\n",
    "* .replace can replace a word in a given const to another word as shown below"
   ]
  },
  {
   "cell_type": "code",
   "execution_count": null,
   "id": "a12f44be",
   "metadata": {},
   "outputs": [],
   "source": [
    "// Replacing Substrings\n",
    "let newLionFact = lionFact.replace('lions', 'giraffes');\n",
    "console.log(newLionFact);  // Replaced string\n",
    "\n",
    "// Or replace it directly\n",
    "lionFact = lionFact.replace('lions', 'giraffes');\n",
    "console.log(lionFact);  // Replaced string directly"
   ]
  },
  {
   "cell_type": "markdown",
   "id": "d9fa4289",
   "metadata": {},
   "source": [
    "giraffes are the only cats that live in groups"
   ]
  },
  {
   "cell_type": "markdown",
   "id": "2d8c20dc",
   "metadata": {},
   "source": [
    "## Concatenation\n",
    "* Used to join together multiple variables\n",
    "* can get messy at times as shown below if not in good format"
   ]
  },
  {
   "cell_type": "code",
   "execution_count": null,
   "id": "7d04eb30",
   "metadata": {},
   "outputs": [],
   "source": [
    "// Concatenation\n",
    "let fish = \"fish\";\n",
    "let fish1 = \"angel\";\n",
    "let fish2 = \"cat\";\n",
    "let fish3 = \"puffer\";\n",
    "\n",
    "// Bad format\n",
    "let badFormatSpecies = fish1 + fish + fish2 + fish + fish3 + fish;\n",
    "console.log(badFormatSpecies);\n",
    "\n",
    "// Good format with commas\n",
    "let goodFormatSpecies = `${fish1}${fish}, ${fish2}${fish}, and ${fish3}${fish}`;\n",
    "console.log(goodFormatSpecies);"
   ]
  },
  {
   "cell_type": "markdown",
   "id": "616c7ba2",
   "metadata": {},
   "source": [
    "angelfishcatfishpufferfish\n",
    "\n",
    "angelfish, catfish, pufferfish"
   ]
  },
  {
   "cell_type": "markdown",
   "id": "464372d0",
   "metadata": {},
   "source": [
    "## Explanation for \"Good\" and \"Bad\" formatting\n",
    "\n",
    "* fish1 + fish: Concatenates the value of fish1 with fish. This is equivalent to what you can do in Python with fish1 + fish.\n",
    "\n",
    "* , ' ': The comma and space are explicitly added in between fish1 + fish and fish2 + fish to ensure proper formatting and cleaning output.\n",
    "\n",
    "* ${} Templateliteral.The ${} syntax is used to embed expressions inside the string. Each ${fish1}${fish} inserts the value of fish1 followed by fish into the string."
   ]
  },
  {
   "cell_type": "markdown",
   "id": "95e57c7b",
   "metadata": {},
   "source": [
    "## Formatted Strings\n",
    "\n",
    "* The variable betterFormatSpecies is defined using a template literal (denoted by backticks `).\n",
    "\n",
    "* Inside the template literal, the values of the variables fish1, fish2, fish3, and fish are embedded using ${} syntax from before.\n",
    "\n",
    "* This string uses commas to separate the fish types and includes the word \"and\" before the last fish."
   ]
  },
  {
   "cell_type": "code",
   "execution_count": null,
   "id": "389ccd53",
   "metadata": {},
   "outputs": [],
   "source": [
    "// Formatted Strings\n",
    "let betterFormatSpecies = `${fish1}${fish}, ${fish2}${fish}, and ${fish3}${fish} are my favorite fish!`;\n",
    "console.log(betterFormatSpecies);"
   ]
  },
  {
   "cell_type": "markdown",
   "id": "950f1ade",
   "metadata": {},
   "source": [
    "angelfish, catfish, pufferfish are my favorite fish!"
   ]
  },
  {
   "cell_type": "code",
   "execution_count": null,
   "id": "96f29931",
   "metadata": {},
   "outputs": [],
   "source": [
    "//  Good popcorn hack guys!\n",
    "let fish1 = 'Goldfish';\n",
    "let fish2 = 'Betta';\n",
    "let fish3 = 'Clownfish';\n",
    "let fish = ' fish';\n",
    "\n",
    "// Bad Formatting Examples:\n",
    "\n",
    "// 1. Simple concatenation without spaces (Bad Formatting)\n",
    "let badFormat1 = fish1 + fish + ',' + fish2 + fish + ',' + fish3 + fish + ' are my favorite fish!';\n",
    "console.log(\"Bad Formatting 1:\", badFormat1); \n",
    "// Problem: No spaces between concatenated strings, hard to read, and can cause confusion.\n",
    "\n",
    "// 2. Adding space manually in concatenation (Bad Formatting)\n",
    "let badFormat2 = fish1 + fish + ', ' + fish2 + fish + ', ' + fish3 + fish + ' are my favorite fish!';\n",
    "console.log(\"Bad Formatting 2:\", badFormat2); \n",
    "// Problem: Still not very clean, hard to maintain, especially when more variables are added.\n",
    "\n",
    "// 3. Concatenating mixed string and variable types (Bad Formatting)\n",
    "let badFormat3 = fish1 + fish + ', ' + 5 + fish + ' are my favorite fish!'; \n",
    "console.log(\"Bad Formatting 3:\", badFormat3);\n",
    "// Problem: Mixing string literals and numbers directly can lead to confusion and errors in larger codebases. \n",
    "\n",
    "\n",
    "// Good Formatting Examples:\n",
    "\n",
    "// 1. Using Template Literals (Good Formatting)\n",
    "let goodFormat1 = `${fish1}${fish}, ${fish2}${fish}, and ${fish3}${fish} are my favorite fish!`;\n",
    "console.log(\"Good Formatting 1:\", goodFormat1); \n",
    "// Problem Solved: Template literals are cleaner, easier to read, and maintain. \n",
    "\n",
    "// 2. String interpolation with variables and expressions (Good Formatting)\n",
    "let fishCount = 3;\n",
    "let goodFormat2 = `I have ${fishCount} types of fish: ${fish1}, ${fish2}, and ${fish3}.`;\n",
    "console.log(\"Good Formatting 2:\", goodFormat2);\n",
    "// Problem Solved: Template literals allow embedding of expressions like variables directly, keeping the code neat and readable.\n",
    "\n",
    "// 3. Adding multiple variables dynamically in a clean format (Good Formatting)\n",
    "let betterFormatSpecies = `${fish1}${fish}, ${fish2}${fish}, and ${fish3}${fish} are my favorite fish!`;\n",
    "console.log(\"Better Formatting:\", betterFormatSpecies);\n",
    "// Problem Solved: Using template literals with embedded variables ensures clear and easy-to-read code.\n",
    "\n",
    "// 4. Handling complex expressions inside template literals (Good Formatting)\n",
    "let fishDetails = `${fish1} is a small ${fish} and ${fish2} is a colorful ${fish}. Both are popular for aquarium enthusiasts.`;\n",
    "console.log(\"Good Formatting 4:\", fishDetails);\n",
    "// Problem Solved: Complex expressions involving variables and additional text are easily handled inside template literals.\n",
    "\n",
    "// 5. Multi-line string formatting (Good Formatting)\n",
    "let multiLineExample = `\n",
    "  I have a few favorite fish:\n",
    "  - ${fish1}\n",
    "  - ${fish2}\n",
    "  - ${fish3}\n",
    "  I love them all!\n",
    "`;\n",
    "console.log(\"Good Formatting 5:\", multiLineExample);\n",
    "// Problem Solved: Template literals allow multi-line strings to be formatted naturally, making it easier to present data over several lines.\n",
    "\n",
    "// 6. Nested Expressions in Template Literals (Good Formatting)\n",
    "let preferredFish = `${fish1} (${fishCount > 2 ? 'multiple' : 'single'}) are a great choice for my aquarium.`;\n",
    "console.log(\"Good Formatting 6:\", preferredFish);\n",
    "// Problem Solved: You can easily embed expressions and conditionals in template literals for more dynamic content.\n",
    "\n",
    "// 7. Function integration with formatted strings (Good Formatting)\n",
    "function getFormattedFish(fishArray) {\n",
    "    return `I have ${fishArray.length} fish: ${fishArray.join(', ')}.`;\n",
    "}\n",
    "let fishList = [fish1, fish2, fish3];\n",
    "let formattedFishList = getFormattedFish(fishList);\n",
    "console.log(\"Good Formatting 7:\", formattedFishList);\n",
    "// Problem Solved: Using functions to format strings keeps the code modular and reusable, while template literals simplify the creation of the final string.\n"
   ]
  }
 ],
 "metadata": {
  "kernelspec": {
   "display_name": "JavaScript",
   "language": "javascript",
   "name": "javascript"
  },
  "language_info": {
   "name": "javascript",
   "version": "latest"
  }
 },
 "nbformat": 4,
 "nbformat_minor": 5
}
