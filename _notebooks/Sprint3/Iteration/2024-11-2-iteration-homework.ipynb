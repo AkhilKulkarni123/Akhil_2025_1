{
 "cells": [
  {
   "cell_type": "code",
   "execution_count": null,
   "metadata": {},
   "outputs": [],
   "source": [
    "---\n",
    "comments: True\n",
    "layout: post\n",
    "title: Iteration Homework\n",
    "description: An intro to data abstraction\n",
    "permalink: /csse/javascript/fundamentals/iteration/hw\n",
    "categories: [CSSE JavaScript Fundamentals]\n",
    "author: Kian Zhu, Michael Xu and Srinaga Pillutla\n",
    "---"
   ]
  },
  {
   "cell_type": "markdown",
   "metadata": {},
   "source": [
    "## Homework Assignment: for Loop Challenge\n",
    "Task: Create a program that does the following:\n",
    "\n",
    "Initialize an array with the names of five of your favorite movies.\n",
    "Use a for loop to iterate through the array and print each movie name to the console.\n",
    "After printing all movie names, print a message indicating how many movies you listed."
   ]
  },
  {
   "cell_type": "code",
   "execution_count": null,
   "metadata": {
    "vscode": {
     "languageId": "javascript"
    }
   },
   "outputs": [],
   "source": [
    "// Homework Assignment - For Loop Challenege:\n",
    "\n",
    "// Step 1: Initialize an array with the names of five favorite movies\n",
    "const favoriteMovies = ['Inception', 'The Matrix', 'Interstellar', 'The Dark Knight', 'Parasite'];\n",
    "\n",
    "// Step 2: Use a for loop to iterate through the array and print each movie name to the console\n",
    "for (let i = 0; i < favoriteMovies.length; i++) {\n",
    "  console.log(favoriteMovies[i]);\n",
    "}\n",
    "\n",
    "// Step 3: Print a message indicating how many movies were listed\n",
    "console.log(`I listed ${favoriteMovies.length} movies.`);\n"
   ]
  },
  {
   "cell_type": "markdown",
   "metadata": {},
   "source": [
    "# **Homework**\n",
    "\n",
    "Create a **3 by 3, 2D list** that represents a **tictactoe board**.\n",
    "Use **\"X\"** for X, **\"O\"** for O, and **None** for empty tiles.\n",
    "\n",
    "Ex. board = [[\"X\",\"None\",\"O\"],  \n",
    "&emsp;&emsp;&emsp;&emsp;&emsp;&emsp;&ensp;[\"X\",\"O\",\"None\"],  \n",
    "&emsp;&emsp;&emsp;&emsp;&emsp;&emsp;&ensp;[\"O\",\"None\",\"X\"]]\n",
    "\n",
    "Iterate over the board and **identify whether it is player X's or player O's turn.**\n",
    "\n",
    "**Hint**: count the number of moves(non-None). (X goes first)\n",
    "\n",
    "**Optional**: use console.error() to report an error if the board is illegal (ex. 7 \"X\"s and 2 \"O\"s)"
   ]
  },
  {
   "cell_type": "code",
   "execution_count": null,
   "metadata": {
    "vscode": {
     "languageId": "javascript"
    }
   },
   "outputs": [],
   "source": [
    "// Initialize a 3x3 2D array representing the Tic-Tac-Toe board\n",
    "let board = [\n",
    "    [\"X\", \"None\", \"O\"],\n",
    "    [\"X\", \"O\", \"None\"],\n",
    "    [\"O\", \"None\", \"X\"]\n",
    "  ];\n",
    "  \n",
    "  // Function to count occurrences of a given value in the board\n",
    "  function countMoves(value) {\n",
    "    let count = 0;\n",
    "    for (let row = 0; row < board.length; row++) {\n",
    "      for (let col = 0; col < board[row].length; col++) {\n",
    "        if (board[row][col] === value) {\n",
    "          count++;\n",
    "        }\n",
    "      }\n",
    "    }\n",
    "    return count;\n",
    "  }\n",
    "  \n",
    "  // Function to determine whose turn it is\n",
    "  function checkTurn() {\n",
    "    let xCount = countMoves(\"X\");\n",
    "    let oCount = countMoves(\"O\");\n",
    "  \n",
    "    // Check if the board is legal\n",
    "    if (xCount > oCount + 1 || oCount > xCount) {\n",
    "      console.error(\"Illegal board configuration: too many 'X's or 'O's.\");\n",
    "      return;\n",
    "    }\n",
    "  \n",
    "    // Determine whose turn it is\n",
    "    if (xCount === oCount) {\n",
    "      console.log(\"It's Player X's turn.\");\n",
    "    } else if (xCount > oCount) {\n",
    "      console.log(\"It's Player O's turn.\");\n",
    "    }\n",
    "  }\n",
    "  \n",
    "  // Call the function to check whose turn it is\n",
    "  checkTurn();\n",
    "  "
   ]
  },
  {
   "cell_type": "markdown",
   "metadata": {},
   "source": [
    "## H.W application of While Loops. \n",
    "\n",
    "Create the Outer Loop:\n",
    "\n",
    "Use a while loop that runs while outerFactor is less than or equal to 10.\n",
    "Initialize the Inner Loop Variable:\n",
    "\n",
    "Inside the outer loop, create another variable called innerFactor and set it to 1.\n",
    "Create the Inner Loop:\n",
    "\n",
    "Inside the outer loop, use another while loop that runs while innerFactor is less than or equal to 10.\n",
    "Calculate the Product:\n",
    "\n",
    "Inside the inner loop, calculate the product of outerFactor and innerFactor.\n",
    "Print the Product:\n",
    "\n",
    "Print the product using console.log(), formatting the output neatly.\n",
    "Increment the Inner Loop Variable:\n",
    "\n",
    "After printing the product, increment innerFactor by 1.\n",
    "Move to the Next Line:\n",
    "\n",
    "After the inner loop finishes, print a new line to separate rows.\n",
    "Increment the Outer Loop Variable:\n",
    "\n",
    "Increment outerFactor by 1 to move to the next row in the table."
   ]
  },
  {
   "cell_type": "code",
   "execution_count": null,
   "metadata": {
    "vscode": {
     "languageId": "javascript"
    }
   },
   "outputs": [],
   "source": [
    "// Initialize the outerFactor variable for the outer loop\n",
    "let outerFactor = 1;\n",
    "\n",
    "// Outer loop runs as long as outerFactor is less than or equal to 10\n",
    "while (outerFactor <= 10) {\n",
    "  \n",
    "  // Initialize the innerFactor variable for the inner loop\n",
    "  let innerFactor = 1;\n",
    "\n",
    "  // Inner loop runs as long as innerFactor is less than or equal to 10\n",
    "  while (innerFactor <= 10) {\n",
    "    \n",
    "    // Calculate the product of outerFactor and innerFactor\n",
    "    let product = outerFactor * innerFactor;\n",
    "\n",
    "    // Print the product formatted with space for alignment\n",
    "    process.stdout.write(`${product}\\t`);\n",
    "\n",
    "    // Increment the innerFactor by 1 to move to the next column\n",
    "    innerFactor++;\n",
    "  }\n",
    "\n",
    "  // Print a new line after each row of products\n",
    "  console.log();\n",
    "\n",
    "  // Increment the outerFactor by 1 to move to the next row\n",
    "  outerFactor++;\n",
    "}\n"
   ]
  }
 ],
 "metadata": {
  "kernelspec": {
   "display_name": "venv",
   "language": "python",
   "name": "python3"
  },
  "language_info": {
   "codemirror_mode": {
    "name": "ipython",
    "version": 3
   },
   "file_extension": ".py",
   "mimetype": "text/x-python",
   "name": "python",
   "nbconvert_exporter": "python",
   "pygments_lexer": "ipython3",
   "version": "3.10.12"
  }
 },
 "nbformat": 4,
 "nbformat_minor": 2
}
