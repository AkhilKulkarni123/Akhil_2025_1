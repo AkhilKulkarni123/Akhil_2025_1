{
 "cells": [
  {
   "cell_type": "markdown",
   "metadata": {
    "vscode": {
     "languageId": "drawio"
    }
   },
   "source": [
    "---\n",
    "comments: True\n",
    "layout: post\n",
    "title: Self_Grading_Checklist\n",
    "description: Self_Grading Points and Explanations/Breakdown\n",
    "permalink: /csse/javascript/Self_Grade\n",
    "categories: [PBL_Blogs]\n",
    "author: Akhil Kulkarni\n",
    "---"
   ]
  },
  {
   "cell_type": "code",
   "execution_count": null,
   "metadata": {
    "vscode": {
     "languageId": "javascript"
    }
   },
   "outputs": [],
   "source": [
    "/*\"| Assignment        | Points        |            Explanation          \\n\",\n",
    "\"|--------------|---------------|----------------------------|\\n\",\n",
    "\"| Eight Blogs  | 4.7 (out of 5)       | All of my blogs were completed with accurate content demonstrating all concepts we learned throughout the 24 weeks, and examples with how I implemented them in out class and individual projects|\\n\",\n",
    "\"| Adventure Game Progress |1.9 (out of 2) | Notable progress with the Adventure Game, one of my strongest points of the trimester, added 2 new levels with new sprites and logic for each|\\n\",\n",
    "\"| 5 Things in 24 Weeks |0.93  | Reflected on and explainied 5 major things I learned in CSSE, rooting from the many lessons I learned and mistakes I made throughout the 24 weeks of CSSE|\\n\",\n",
    "\"| Draw IO + Latest game feature| 0.9 | DrawIO was compete, demonstrating the vital connection and importance of most major control files of the Adventure Game and how they all work together to render the game and handle all logic, could be more detailed and include more files with longer explanations.|\\n\",\n",
    "\"| N@TM Feedback     | 0.91 | Revieved very helpful feedback at NATM, with the 2 main ones being of having helpful messages and more thematic sprites, both of which I added and improved the logic for in my game|\\n\",\n",
    "\"| Total | Out of 10 points | Points Recieved: 9.34|\"*/\n",
    "   "
   ]
  }
 ],
 "metadata": {
  "language_info": {
   "name": "python"
  }
 },
 "nbformat": 4,
 "nbformat_minor": 2
}
