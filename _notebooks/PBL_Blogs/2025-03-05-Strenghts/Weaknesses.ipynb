{
 "cells": [
  {
   "cell_type": "raw",
   "metadata": {
    "vscode": {
     "languageId": "raw"
    }
   },
   "source": [
    "---\n",
    "comments: True\n",
    "layout: post\n",
    "title: My Strengths/Weaknesses \n",
    "description: Improvements in the 24 weeks \n",
    "permalink: /csse/javascript/Strengths/Weaknesses\n",
    "categories: [PBL_Blogs]\n",
    "author: Akhil Kulkarni\n",
    "---"
   ]
  },
  {
   "cell_type": "markdown",
   "metadata": {},
   "source": [
    "Strengths: I think my biggest strengths during the trimester were ideation, code production near the end of trimester which is something I picked up in the Adventure Game, Collaboration with peers, and sprites/themes in game changes"
   ]
  },
  {
   "cell_type": "markdown",
   "metadata": {},
   "source": [
    "Weaknesses: I think some of my main weaknesses during the trimester included communication, overall consistency, sometimes I saved a large portion of a taskk I wanted to finish for last couple of nights, and I often got very fixated on certain topics which didn't work, causing me to be not as efficient with my time."
   ]
  }
 ],
 "metadata": {
  "language_info": {
   "name": "python"
  }
 },
 "nbformat": 4,
 "nbformat_minor": 2
}
