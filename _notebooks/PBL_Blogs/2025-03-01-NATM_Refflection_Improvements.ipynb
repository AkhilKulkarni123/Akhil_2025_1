{
 "cells": [
  {
   "cell_type": "raw",
   "metadata": {
    "vscode": {
     "languageId": "raw"
    }
   },
   "source": [
    "---\n",
    "comments: True\n",
    "layout: post\n",
    "title: NATM Reflection and Future Improvements\n",
    "description: NATM Feedback and how it was incorporated in my game level to improve\n",
    "permalink: /csse/javascript/NATM_Reflection\n",
    "categories: [PBL_Blogs]\n",
    "author: Akhil Kulkarni\n",
    "---"
   ]
  },
  {
   "cell_type": "markdown",
   "metadata": {},
   "source": [
    "I received feedback that my game was lacking clear messages explaining the goal at the beginning of each level, and that some of the sprites didn't quite match the themes of the levels. After taking that feedback into account, I made some significant updates to address these points.\n",
    "\n",
    "1. Clear Goal at the Beginning of the Level\n",
    "In the past, players didn’t really have a clear understanding of what the goal of the level was, so I added introductory messages right at the start of both the Magic and City levels. Now, players are greeted with:\n",
    "\n",
    "Most importantly, there are more alerts messages now thaat run periodically and trigger some fixed number of seconds after the game renders of after something the user does to inform the user about the goal of the level and what to do next, like we saw in the 2 new levels City and Magic with the alerts, goals, restart, quiz, and time's up feature. In the Magic level, they see: \"Welcome to the desert! It is hot and dry here, but there are many adventures to be had!\" This sets the stage and gets the player ready for the adventure.\n",
    "In the City level, they see: \"Welcome to the city! There's a lot to explore here, and many interesting people to meet!\" This gives them a better idea of the environment and what to expect.\n",
    "These greetings now clearly explain the level themes and give players a sense of purpose as they begin.\n",
    "\n",
    "2. Sprites Fitting the Level Themes\n",
    "One piece of feedback I got was that my sprites didn’t always fit the theme of the levels. To fix that, I changed up the character designs:\n",
    "\n",
    "Magic Level: I replaced the old sprite with a magician with a wand and fitting glasses to portray the theme of the level, which makes much more sense for a magic-themed level. The sprite animations are well-suited for someone exploring and seeking wisdom in such an environment.\n",
    "City Level: For the city, I used a buisnesman sprite/guy—a character that’s all about business and adventure. This fits the city’s busy vibe much better than my previous sprite. I also added Tux (the Linux mascot) and Octocat (the GitHub mascot), which bring a tech and open-source flavor to the level, matching its theme of exploration and knowledge, and allow for interactions to ensure the logic of the game worked with the collisions.\n",
    "3. New Features to Encourage Engagement\n",
    "To make the levels more engaging and to help guide players, I added a couple of new features:\n",
    "\n",
    "Magic Level Quiz: I added a quiz at the beginning of the level to help reinforce the idea of gaining knowledge. Players have to answer a few shell command questions, and if they get them all right, they’re congratulated. This adds a fun challenge to the game and ensures players understand the importance of the tasks.\n",
    "City Level Timer: To create a sense of urgency, I added a timer to the City level. Players have 70 seconds to explore and meet NPCs. If they don’t meet the time requirement, they get an alert reminding them to try again. This helps make the game feel more dynamic and gives players a clear sense of progression.\n",
    "4. Retry when goal was not met\n",
    "Previously the error message users got when they did esc key before meeting the level's criteria made them stuck in an infinite loop, so I changed it so that there was a restarting feature using location.reload() and making the game a lot smoother as well in the process.\n",
    "5. Improved Sprite Design\n",
    "I also made sure the new sprites were properly scaled and that their hitboxes aligned with the character animations. For example, I adjusted the hitbox for Stock Guy to better match the proportions of the new sprite.\n",
    "\n",
    "Conclusion\n",
    "In summary, I addressed the feedback by adding clear messages at the beginning of each level to explain the goals, swapping out sprites that fit the level themes better, and adding engaging new features like quizzes and timers. These changes make the game feel more immersive and help guide players through each level in a fun and informative way.\n",
    "\n"
   ]
  },
  {
   "cell_type": "markdown",
   "metadata": {},
   "source": [
    "Potential Changes If Had More Time:\n",
    "\n",
    "1. More Detailed Storyline and Quests\n",
    "Deeper Story Integration: You could have added a more complex narrative to each level, giving players more context about the world they're exploring. For example, in the Magic level, you could introduce a backstory about an ancient desert civilization that players need to uncover as they progress.\n",
    "Side Quests: In the City level, you could introduce optional side quests where players have to help NPCs with certain tasks, earning rewards like power-ups or new abilities. This would encourage exploration and provide more depth to the gameplay.\n",
    "2. Dynamic NPC Interactions\n",
    "Multiple NPC Conversations: Rather than just a single line of dialogue from each NPC, you could allow players to engage in a series of dialogues that evolve as they progress through the level. These could offer hints, puzzles, or mini-challenges to keep things interesting.\n",
    "Branching Dialogue: Adding branching dialogue options would allow players to make choices that affect the game's outcome or provide different paths through the levels. This could give the game a more RPG-like feel, adding replayability and depth.\n",
    "3. Level Design and Environmental Interactions\n",
    "Interactive Environments: You could have included interactive elements in the environment, such as objects the player can manipulate or puzzles they need to solve. For example, in the Magic level, you could have players use their surroundings to their advantage (like moving rocks or finding hidden doors).\n",
    "Weather and Day/Night Cycles: Adding environmental effects such as a day/night cycle, weather conditions (rain, sandstorms in the desert), or time-sensitive events could make the levels feel more immersive and dynamic.\n",
    "4. More Advanced NPC AI\n",
    "Intelligent NPCs: The NPCs could have had more complex behaviors. Instead of just static interactions, NPCs could react to the player’s actions—perhaps they get friendlier if the player helps them or become hostile if they’re ignored.\n",
    "Movement Patterns: You could have had NPCs and enemies with more complex movement patterns. For example, in the Magic level, there could be wandering creatures or enemies that the player has to avoid or defeat.\n",
    "5. Better Sound Design\n",
    "Background Music: Adding background music specific to each level would greatly enhance the atmosphere. For example, you could have soft, mystical tunes in the Magic level, and bustling city sounds in the City level.\n",
    "Sound Effects for Actions: Adding sound effects for player actions (like walking, jumping, interacting with NPCs, or completing the quiz) would make the game feel more polished and immersive.\n",
    "6. Player Abilities and Progression\n",
    "Character Progression: You could introduce a leveling system or abilities that players unlock as they progress. For example, after completing a quiz or interacting with certain NPCs, the player could gain new abilities (e.g., faster movement, higher jumps, or special interactions with NPCs).\n",
    "Inventory System: Implementing an inventory system where players could collect items during their journey would add depth to the gameplay. For example, they could collect artifacts in the Magic level that help them unlock new areas or solve puzzles.\n",
    "7. More Level Variety\n",
    "Additional Environments: If you had more time, you could have added more diverse environments for future levels. For example, you could introduce a forest level, a snowy mountain, or an underwater city. Each new environment would require new sprites, NPCs, and gameplay mechanics to fit the theme.\n",
    "Non-Linear Level Design: Rather than having a single, linear progression from level to level, you could introduce branching paths or multiple solutions to puzzles. This would allow players to approach levels in different ways, adding to replayability. Adding a new level as kind of like a reward as beating the main quiz would have been very cool to implement!"
   ]
  }
 ],
 "metadata": {
  "language_info": {
   "name": "python"
  }
 },
 "nbformat": 4,
 "nbformat_minor": 2
}
