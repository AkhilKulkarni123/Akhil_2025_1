{
 "cells": [
  {
   "cell_type": "markdown",
   "metadata": {},
   "source": [
    "---\n",
    "comments: True\n",
    "layout: post\n",
    "title: Future Plans for Computer Science\n",
    "description: What I intend to persue in the field of computer science in the next several years and my career post college\n",
    "permalink: /csse/javascript/Future_Plans\n",
    "categories: [PBL_Blogs]\n",
    "author: Akhil Kulkarni\n",
    "---"
   ]
  },
  {
   "cell_type": "markdown",
   "metadata": {},
   "source": [
    "Computer Science is a growing field with more and more relevance in today's world, taking over in the tech industry and people's everyday lives. These past 24 weeks in Computer science have been very helpful to introducing the field of computer science as a whole, and working on group projects with peers as well. "
   ]
  },
  {
   "cell_type": "markdown",
   "metadata": {},
   "source": [
    "My future plans in Computer science include taking more Computer science classes throughtout the rest of my high school like AP CSP/CSA to get familiar with more languages/frameworks like python and web developement with the usage of API's like the Real-time Stocks website simualting real time data of the stock market for users to buy shares of from compannies using a Finance API, althougn I dont fully remember. "
   ]
  },
  {
   "cell_type": "markdown",
   "metadata": {},
   "source": [
    "After high school, I also intend in majoring in Computer science and want to stay in state for college. If not computer science, I know I will major in engineering relatinng with software in college. I am specially interested in colleges in California like UCSD and UCLA for computer science. I am also interested in Data Stuctures and Algorithms and also have a youtube channel dedicated to these, topics, which will be a course that I plan ont aking for a semester in college for computer science, as these CS courses in High School laid a programming foundation for these more advanced topics. "
   ]
  }
 ],
 "metadata": {
  "language_info": {
   "name": "python"
  }
 },
 "nbformat": 4,
 "nbformat_minor": 2
}
