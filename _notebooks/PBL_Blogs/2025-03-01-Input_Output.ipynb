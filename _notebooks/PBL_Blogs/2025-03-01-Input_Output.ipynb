{
 "cells": [
  {
   "cell_type": "raw",
   "metadata": {
    "vscode": {
     "languageId": "html"
    }
   },
   "source": [
    "---\n",
    "comments: True\n",
    "layout: post\n",
    "title: Input/Output Blogs\n",
    "description: Input/Output Lessons and Processes \n",
    "permalink: /csse/javascript/Input_Output\n",
    "categories: [CSSE JavaScript Blogs]\n",
    "author: Akhil Kulkarni\n",
    "---"
   ]
  },
  {
   "cell_type": "markdown",
   "metadata": {},
   "source": [
    "Interacting with users through input and output (I/O) is a core functionality of JavaScript. It handles user inputs via HTML elements and dynamically updates the webpage using the Document Object Model (DOM).\n",
    "\n"
   ]
  },
  {
   "cell_type": "markdown",
   "metadata": {},
   "source": [
    "1. HTML5 Input Fields\n",
    "HTML5 provides various input types to collect user data through forms.\n",
    "\n",
    "Common HTML5 Input Types:\n",
    "Text Input (type=\"text\"): Captures text input.\n",
    "Email Input (type=\"email\"): Ensures correct email format.\n",
    "Number Input (type=\"number\"): Accepts only numeric values.\n",
    "Checkbox (type=\"checkbox\"): Provides an on/off switch.\n",
    "Radio Button (type=\"radio\"): Selects one option from a group.\n",
    "Date Input (type=\"date\"): Allows users to pick a date.\n",
    "File Input (type=\"file\"): Uploads files.\n",
    "Example: HTML Input Form"
   ]
  },
  {
   "cell_type": "code",
   "execution_count": null,
   "metadata": {
    "vscode": {
     "languageId": "html"
    }
   },
   "outputs": [],
   "source": [
    "<form id=\"userForm\">\n",
    "    <label for=\"name\">Name:</label>\n",
    "    <input type=\"text\" id=\"name\" required>\n",
    "\n",
    "    <label for=\"email\">Email:</label>\n",
    "    <input type=\"email\" id=\"email\" required>\n",
    "\n",
    "    <button type=\"submit\">Submit</button>\n",
    "</form>\n"
   ]
  },
  {
   "cell_type": "markdown",
   "metadata": {},
   "source": [
    "Required fields ensure users enter values before submitting.\n",
    "The submit button triggers form processing.\n"
   ]
  },
  {
   "cell_type": "markdown",
   "metadata": {},
   "source": [
    "2. Form Validation\n",
    "Form validation ensures users enter correct information before submission.\n",
    "\n",
    "HTML5 Built-in Validation\n",
    "HTML5 provides attributes like required, minlength, maxlength, and pattern for quick validation."
   ]
  },
  {
   "cell_type": "code",
   "execution_count": null,
   "metadata": {
    "vscode": {
     "languageId": "html"
    }
   },
   "outputs": [],
   "source": [
    "<input type=\"text\" minlength=\"3\" maxlength=\"20\" required>\n",
    "<input type=\"email\" required>\n"
   ]
  },
  {
   "cell_type": "markdown",
   "metadata": {},
   "source": [
    "3. The Document Object Model (DOM)\n",
    "The DOM allows JavaScript to dynamically access, modify, and interact with HTML elements.\n",
    "\n",
    "Key DOM Methods for Input/Output: \n",
    "\n",
    "Method\tDescription\n",
    "document.getElementById(id)\t- Selects an element by its ID.\n",
    "document.querySelector(selector) -\tSelects the first matching element.\n",
    "document.querySelectorAll(selector)\t- Selects all matching elements.\n",
    "element.innerHTML -\tChanges an element’s HTML content.\n",
    "element.textContent\t - Modifies text inside an element.\n",
    "element.value\t- Retrieves or updates an input field’s value."
   ]
  },
  {
   "cell_type": "markdown",
   "metadata": {},
   "source": [
    "4. Handling User Input Using JavaScript and the DOM\n",
    "JavaScript can process user input and display output dynamically.\n",
    "\n",
    "Example: Display User Input on the Page"
   ]
  },
  {
   "cell_type": "code",
   "execution_count": null,
   "metadata": {
    "vscode": {
     "languageId": "html"
    }
   },
   "outputs": [],
   "source": [
    "<input type=\"text\" id=\"username\" placeholder=\"Enter your name\">\n",
    "<button onclick=\"displayMessage()\">Submit</button>\n",
    "<p id=\"message\"></p>\n",
    "\n",
    "<script>\n",
    "    function displayMessage() {\n",
    "        let userInput = document.getElementById(\"username\").value;\n",
    "        document.getElementById(\"message\").textContent = \"Hello, \" + userInput + \"!\";\n",
    "    }\n",
    "</script>\n"
   ]
  },
  {
   "cell_type": "markdown",
   "metadata": {},
   "source": [
    "The user enters a name.\n",
    "Clicking the button triggers displayMessage(), which updates the <p> element."
   ]
  },
  {
   "cell_type": "markdown",
   "metadata": {},
   "source": [
    "5. DOM Manipulation for Interactive Input/Output\n",
    "JavaScript can modify page styles based on user input.\n",
    "\n",
    "Example: Changing Background Color"
   ]
  },
  {
   "cell_type": "code",
   "execution_count": null,
   "metadata": {
    "vscode": {
     "languageId": "html"
    }
   },
   "outputs": [],
   "source": [
    "<input type=\"text\" id=\"colorInput\" placeholder=\"Enter a color (red, blue, etc.)\">\n",
    "<button onclick=\"changeColor()\">Change Background</button>\n",
    "\n",
    "<script>\n",
    "    function changeColor() {\n",
    "        let color = document.getElementById(\"colorInput\").value;\n",
    "        document.body.style.backgroundColor = color;\n",
    "    }\n",
    "</script>\n"
   ]
  },
  {
   "cell_type": "markdown",
   "metadata": {},
   "source": [
    "6. Advanced Input Handling with Event Listeners\n",
    "Event listeners capture user interactions such as typing, clicking, and form submission.\n",
    "\n",
    "Example: Live Character Counter"
   ]
  },
  {
   "cell_type": "code",
   "execution_count": null,
   "metadata": {
    "vscode": {
     "languageId": "html"
    }
   },
   "outputs": [],
   "source": [
    "<textarea id=\"textArea\" placeholder=\"Type something...\" maxlength=\"100\"></textarea>\n",
    "<p>Characters Left: <span id=\"charCount\">100</span></p>\n",
    "\n",
    "<script>\n",
    "    document.getElementById(\"textArea\").addEventListener(\"input\", function() {\n",
    "        let maxLength = 100;\n",
    "        let currentLength = this.value.length;\n",
    "        document.getElementById(\"charCount\").textContent = maxLength - currentLength;\n",
    "    });\n",
    "</script>\n"
   ]
  },
  {
   "cell_type": "markdown",
   "metadata": {},
   "source": [
    "7. Fetching Data for Output (AJAX & Fetch API)\n",
    "JavaScript can fetch and display external data using the Fetch API.\n",
    "\n",
    "Example: Fetching JSON Data from an API"
   ]
  },
  {
   "cell_type": "code",
   "execution_count": null,
   "metadata": {
    "vscode": {
     "languageId": "html"
    }
   },
   "outputs": [],
   "source": [
    "<button onclick=\"fetchData()\">Get Random Joke</button>\n",
    "<p id=\"joke\"></p>\n",
    "\n",
    "<script>\n",
    "    function fetchData() {\n",
    "        fetch(\"https://official-joke-api.appspot.com/random_joke\")\n",
    "        .then(response => response.json())\n",
    "        .then(data => {\n",
    "            document.getElementById(\"joke\").textContent = data.setup + \" - \" + data.punchline;\n",
    "        })\n",
    "        .catch(error => console.log(\"Error:\", error));\n",
    "    }\n",
    "</script>\n"
   ]
  },
  {
   "cell_type": "markdown",
   "metadata": {},
   "source": [
    "Fetches a joke from an API.\n",
    "Updates the webpage when the button is clicked."
   ]
  },
  {
   "cell_type": "markdown",
   "metadata": {},
   "source": [
    "Summary\n",
    "HTML5 Input Fields provide various types for user input.\n",
    "Validation ensures correct data entry using HTML5 attributes and JavaScript.\n",
    "DOM Methods allow JavaScript to manipulate webpage elements dynamically.\n",
    "Event Listeners capture user interactions in real-time.\n",
    "Fetch API enables dynamic data retrieval from external sources!"
   ]
  }
 ],
 "metadata": {
  "language_info": {
   "name": "python"
  }
 },
 "nbformat": 4,
 "nbformat_minor": 2
}
