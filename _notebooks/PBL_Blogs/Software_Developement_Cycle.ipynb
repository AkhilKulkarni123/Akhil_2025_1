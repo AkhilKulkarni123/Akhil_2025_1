{
 "cells": [
  {
   "cell_type": "markdown",
   "metadata": {},
   "source": [
    "---\n",
    "comments: True\n",
    "layout: post\n",
    "title: Software Developement Cycle Blogs/Terms\n",
    "description: Software Developement Blog Usage in Our Programming and Relevance in past 2 trimesters\n",
    "permalink: /csse/javascript/Software_Developement_Cycle\n",
    "categories: [CSSE JavaScript Blogs]\n",
    "author: Akhil Kulkarni\n",
    "---"
   ]
  },
  {
   "cell_type": "markdown",
   "metadata": {},
   "source": [
    "Software Development Lifecycle (SDLC) Overview\n",
    "The Software Development Lifecycle (SDLC) outlines the process of planning, creating, testing, and deploying software. It ensures that software development is organized, efficient, and produces high-quality applications. Below are the key stages involved in the SDLC."
   ]
  },
  {
   "cell_type": "markdown",
   "metadata": {},
   "source": [
    "1. Source Control (Git)\n",
    "Source control is essential for tracking code changes, enabling collaboration, and maintaining a history of code modifications. Git is the most widely used version control system for managing code repositories.\n",
    "\n",
    "Benefits of Source Control:\n",
    "\n",
    "Tracks code changes over time.\n",
    "Facilitates collaboration among multiple developers.\n",
    "Provides a rollback mechanism to revert to previous code versions.\n",
    "Git Commands:\n",
    "\n",
    "git init: Initialize a new Git repository.\n",
    "git commit: Save changes locally.\n",
    "git push: Upload changes to a remote repository.\n",
    "git pull: Fetch and merge changes from a remote repository."
   ]
  },
  {
   "cell_type": "markdown",
   "metadata": {},
   "source": [
    "Forking & Branching\n",
    "Forking creates a personal copy of a repository, allowing for independent changes and contributions to open-source projects.\n",
    "\n",
    "Branching allows for working on features or fixes in isolation without affecting the main codebase.\n",
    "\n",
    "Branch Types:\n",
    "\n",
    "Main Branch: The stable, production-ready code.\n",
    "Feature Branch: For developing new features.\n",
    "Bug Fix Branch: For addressing specific bugs.\n",
    "Common Branching Commands:\n",
    "\n",
    "git branch <branch-name>: Create a new branch.\n",
    "git checkout <branch-name>: Switch to a branch.\n",
    "git merge <branch-name>: Merge a branch into the current branch."
   ]
  },
  {
   "cell_type": "markdown",
   "metadata": {},
   "source": [
    "3. Testing & Verification\n",
    "Testing ensures code functionality before merging it into the main branch or deploying it. This involves various types of testing, including:\n",
    "\n",
    "Unit Testing: Testing individual components.\n",
    "\n",
    "Integration Testing: Ensuring components work together.\n",
    "\n",
    "End-to-End Testing: Simulating user interactions to test the entire application.\n",
    "\n",
    "Continuous Integration (CI) tools, such as GitHub Actions or Jenkins, run automated tests when changes are made to the codebase."
   ]
  },
  {
   "cell_type": "markdown",
   "metadata": {},
   "source": [
    "4. Pull Requests & Merging\n",
    "A Pull Request (PR) is used to propose code changes to be merged into the main branch. PRs facilitate code review and collaboration before merging.\n",
    "\n",
    "PR Workflow:\n",
    "\n",
    "Create a branch and make changes.\n",
    "Push changes to the repository.\n",
    "Open a PR for review.\n",
    "Once approved, merge the PR into the main branch.\n",
    "Merging Strategies:\n",
    "\n",
    "Merge Commit: Keeps all commit history intact.\n",
    "Rebase: Re-applies changes on top of the main branch.\n",
    "Squash and Merge: Combines multiple commits into one."
   ]
  },
  {
   "cell_type": "markdown",
   "metadata": {},
   "source": [
    "5. Deployment\n",
    "Deployment involves releasing the software to users. It typically occurs in stages, from internal testing to live production.\n",
    "\n",
    "Deployment Environments:\n",
    "\n",
    "Development Environment: For initial testing.\n",
    "Staging Environment: A pre-production replica for final testing.\n",
    "Production Environment: The live application.\n",
    "Deployment Methods:\n",
    "\n",
    "Manual Deployment: Uploading files to a server.\n",
    "Automated Deployment: Uses CI/CD pipelines for streamlined deployments.\n",
    "Containerization (Docker): Encapsulates the app in a container for easy and consistent deployment across environments."
   ]
  }
 ],
 "metadata": {
  "language_info": {
   "name": "python"
  }
 },
 "nbformat": 4,
 "nbformat_minor": 2
}
