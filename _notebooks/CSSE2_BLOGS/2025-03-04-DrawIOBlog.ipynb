{
 "cells": [
  {
   "cell_type": "markdown",
   "metadata": {},
   "source": [
    "---\n",
    "comments: True\n",
    "layout: post\n",
    "title: DrawIO Visualization\n",
    "description: Adventure Game Progress Burndown and Code Changes/Explanations\n",
    "permalink: /csse/javascript/Adventure_Game\n",
    "categories: [CSSE2_Blogs]\n",
    "author: Akhil Kulkarni\n",
    "---"
   ]
  },
  {
   "cell_type": "markdown",
   "metadata": {},
   "source": [
    "Here is my issue for the DrawIO Visualization of the Adventure Game: [Issue #9](https://github.com/AkhilKulkarni123/Akhil_2025_1/issues/9)\n"
   ]
  }
 ],
 "metadata": {
  "language_info": {
   "name": "python"
  }
 },
 "nbformat": 4,
 "nbformat_minor": 2
}
