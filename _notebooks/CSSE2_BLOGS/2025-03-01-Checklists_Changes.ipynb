{
 "cells": [
  {
   "cell_type": "raw",
   "metadata": {},
   "source": [
    "---\n",
    "comments: True\n",
    "layout: post\n",
    "title: Checklist Blogs\n",
    "description: Checklist of Game Changes and Mastery\n",
    "permalink: /csse/javascript/Operator/Checklist/Changes\n",
    "categories: [CSSE2_Blogs]\n",
    "author: Akhil Kulkarni\n",
    "---"
   ]
  },
  {
   "cell_type": "code",
   "execution_count": null,
   "metadata": {
    "vscode": {
     "languageId": "javascript"
    }
   },
   "outputs": [],
   "source": [
    "/* \n",
    "\n",
    "\n",
    "\n",
    "\n",
    "\n",
    "# Skills/Goals Table For Adventure Game\n",
    "\n",
    "| Skill                                         | Mastered (Y/N) | Rank (1-4) | Ratio | Notes                                                   |\n",
    "|-----------------------------------------------|----------------|------------|-------|---------------------------------------------------------|\n",
    "| New Level (City) Implemented                 | [Y ]           | 3          | 0.0   | Escape Key Logic                        |\n",
    "| Smooth Transtition with window alert                                 | [Y ]           | 3.5        | 0.0   | Level Ended Pop up using escape                               |\n",
    "| Changing current constants in the Player.js File              | [Y ]           | 3.5        | 0.0   | Slightly modified the jumping and height canvas ratio in player.js\n",
    "| Changed and added more questions in the city level quiz,   | [Y ]           | 4          | 0.0   | Integrate quiz logic for new levels                         |\n",
    "| Upload and render sprite logic for city background | [Y ]           | 4          | 0.0   | Already found new city background, for both levels using map background.                     |\n",
    "| Transition                                    | [ ]            | NO          | 0.0   | [Smooth transition to next level]             Have to finish GameControl.js code for city level indexing          |\n",
    "| Game Over                                     | [ ]            | 2          | 0.0   | [Implementations for escape key], have to finish the GameControl.js level indexing to apply the transition logic, restarts the level when the goal is NOT met for either of the new added levels\n",
    "                                       |\n",
    "| Buisnesman Sprite                          | [ ]            | 2        | 0.0   | [Add buisnesman player sprite] | Need to adjust scale factor\n",
    "| NPC's                   | [ ]            | 3          | 0.0   | Add NPC with NPC Class for player to collide with.    |\n",
    "| Add the feature for timer tracking and alerting the user              | [ ]            | 3          | 0.0   | Increment the Counter accordingly and integrate logic periodically and logically  with all restart and times up and NPC Collision counter alerts functionality|\n"
   ]
  },
  {
   "cell_type": "code",
   "execution_count": null,
   "metadata": {
    "vscode": {
     "languageId": "javascript"
    }
   },
   "outputs": [],
   "source": [
    "  // Check if the NPC collision condition is met for the City level\n",
    "    if (this.currentLevelIndex === 2 && this.npcCollisionCount >= this.requiredCollisions) {\n",
    "        this.handleLevelEnd();\n",
    "    } else if (this.currentLevelIndex !== 2) {\n",
    "        this.handleLevelEnd(); // For other levels, handle the level end as normal\n",
    "    }\n",
    "\n",
    "    requestAnimationFrame(this.gameLoop.bind(this));\n",
    "\n",
    "\n",
    "\n",
    "addExitKeyListener: function() {\n",
    "    document.addEventListener('keydown', (event) => {\n",
    "        if (event.key === 'Escape') {\n",
    "            // Prevent progression if the NPC collision count hasn't been reached in the City level\n",
    "            if (this.currentLevelIndex === 2 && this.npcCollisionCount < this.requiredCollisions) {\n",
    "                alert(\"You must collide with the NPC more times to proceed.\");\n",
    "                return;\n",
    "            }\n",
    "            GameEnv.continueLevel = false;\n",
    "        }\n",
    "    });\n",
    "},\n",
    "\n",
    "\n",
    "// Function to increment collision count (this should be called when the player collides with an NPC)\n",
    "incrementNpcCollisionCount: function() {\n",
    "    if (this.currentLevelIndex === 2) { // Only track collisions in the City level\n",
    "        this.npcCollisionCount++;\n",
    "    }\n",
    "}\n",
    ";\n",
    "\n",
    "// Detect window resize events and call the resize function.\n",
    "window.addEventListener('resize', GameControl.resize.bind(GameControl));\n",
    "\n",
    "export default GameControl;\n",
    "\n"
   ]
  },
  {
   "cell_type": "markdown",
   "metadata": {},
   "source": [
    "This is for the third level to check and apply the collision counter only to the second index or third level of the game in GameControl.js, since data structures like lists are 0-indexed in programming! This allows for the collision counter and level transition logic between the 3rd and 4th levels."
   ]
  },
  {
   "cell_type": "code",
   "execution_count": null,
   "metadata": {
    "vscode": {
     "languageId": "javascript"
    }
   },
   "outputs": [],
   "source": [
    " // Timer setup\n",
    " this.timerStartTime = Date.now();\n",
    " this.timerDuration = 70000; // 70 seconds\n",
    "\n",
    " // Check if the time is up every second\n",
    " setInterval(() => {\n",
    "   const elapsedTime = Date.now() - this.timerStartTime;\n",
    "   const remainingTime = this.timerDuration - elapsedTime;\n",
    "\n",
    "   if (remainingTime <= 0) {\n",
    "     alert(\"Time's Up!\");\n",
    "     // Stop the game or implement other logic after the time's up\n",
    "   }\n",
    " }, 1000);"
   ]
  },
  {
   "cell_type": "markdown",
   "metadata": {},
   "source": [
    "This is the code for my real time timer and restartinng the level for the Time's Up Feature if the use r does not beat the level in time. They are given 70 seconds."
   ]
  },
  {
   "cell_type": "code",
   "execution_count": null,
   "metadata": {
    "vscode": {
     "languageId": "javascript"
    }
   },
   "outputs": [],
   "source": [
    "if (event.key === \"Escape\") {\n",
    "    const elapsedTime = Date.now() - this.timerStartTime;\n",
    "    alert(\"You need more knowledge, you must meet with all of the NPC's. Try the journey again!\");\n",
    "    // Reset the game\n",
    "    window.location.reload(); // This will reload the page and restart the game\n",
    "  } else {\n",
    "    alert(\"Congrats! You are ready for the true test\");\n",
    "  }\n",
    ";\n",
    "\n",
    "// Show alert after 2 seconds\n",
    "setTimeout(() => {\n",
    "alert(\"Hello traveler! Now the true test begins. Meet up with the NPC's to gain enough knowledge for the final test!!!\");\n",
    "}, 2000);\n"
   ]
  },
  {
   "cell_type": "markdown",
   "metadata": {},
   "source": [
    "This is the code for messaging the user tthe goal of the game and reloading the game if using location.reload if they pressed esc key to try and move on to the next level without completing the objective of the level of colliding with all NPC's. "
   ]
  },
  {
   "cell_type": "code",
   "execution_count": null,
   "metadata": {
    "vscode": {
     "languageId": "javascript"
    }
   },
   "outputs": [],
   "source": [
    "setTimeout(() => this.startQuiz(), 6000);\n",
    "\n",
    "        // Detect key press within 4 seconds to show \"Don't rush the quiz\" and restart only if ESC is pressed\n",
    "        this.startTime = Date.now();\n",
    "        document.addEventListener('keydown', this.handleKeyPress.bind(this));\n",
    "\n",
    "        // Alert after 5 seconds saying \"Get Ready for The Quiz!\"\n",
    "        setTimeout(() => {\n",
    "            alert(\"Get Ready for The Quiz!\");\n",
    "        }, 5000);\n",
    "    \n",
    "\n",
    "    handleKeyPress(event) {\n",
    "        if (Date.now() - this.startTime <= 4000) { // User pressed within 4 seconds\n",
    "            if (event.key === \"Escape\") {\n",
    "                alert(\"Don't rush the quiz!\");\n",
    "                location.reload(); // Restart the game if ESC is pressed\n",
    "            }\n",
    "        }\n",
    "    }\n",
    "\n",
    "    startQuiz() \n",
    "        const questions = [\n",
    "            { q: \"Which command is used to list files in a directory?\", a: \"ls\" },\n",
    "            { q: \"Which command is used to change directories?\", a: \"cd\" },\n",
    "            { q: \"Which command is used to create a new directory?\", a: \"mkdir\" },\n",
    "            { q: \"Which command is used to remove a file?\", a: \"rm\" },\n",
    "            { q: \"Which command is used to remove a directory?\", a: \"rmdir\" }\n",
    "        ];\n",
    "\n",
    "        let correct = true;\n",
    "\n",
    "        for (let i = 0; i < questions.length; i++) {\n",
    "            let answer = prompt(questions[i].q);\n",
    "            if (answer.trim().toLowerCase() !== questions[i].a) {\n",
    "                correct = false;\n",
    "            }\n",
    "        }\n",
    "\n",
    "        if (correct) {\n",
    "            alert(\"Wow, all answers are correct!\");\n",
    "            alert(\"Congrats, you are a smarty pants!\");\n",
    "        } else {\n",
    "            alert(\"Incorrect answers! Press Esc to restart the game.\");\n",
    "            document.addEventListener(\"keydown\", (event) => {\n",
    "                if (event.key === \"Escape\") {\n",
    "                    location.reload();\n",
    "                }\n",
    "            });\n",
    "        }"
   ]
  },
  {
   "cell_type": "markdown",
   "metadata": {},
   "source": [
    "This is my code for my quiz rendering where each question is mapped to one specific expected output answer that the usser needs to input, along with the logic of checking if uer input is equal to the correct for each respective/corresponding question answerws. I used location.reload here as well when checking if the user beat the quiz and answered all questions right, and used the timer to alert the level's objectives and important alerts chronically."
   ]
  },
  {
   "cell_type": "code",
   "execution_count": null,
   "metadata": {
    "vscode": {
     "languageId": "javascript"
    }
   },
   "outputs": [],
   "source": [
    "start: function(path) {\n",
    "    GameEnv.create();\n",
    "    this.levelClasses = [GameLevelDesert, GameLevelWater, GameLevelCity, GameLevelMagic];\n",
    "    this.currentLevelIndex = 0;\n",
    "    this.path = path;\n",
    "    this.addExitKeyListener();\n",
    "    this.loadLevel();\n",
    "}"
   ]
  },
  {
   "cell_type": "markdown",
   "metadata": {},
   "source": [
    "This is a snippet from GameControl.js, and how it rendered/started all the Game Levels. I added GameLevelCity and GameLevelMagic to the list of all levels as new levels to further lenghten my game as one of my changes."
   ]
  },
  {
   "cell_type": "markdown",
   "metadata": {},
   "source": [
    "I would try to improve the carry over of the messages and logic as a whole between levels, so the messages would be more smooth and understandable for later levels like GameLevelMagic.js!"
   ]
  }
 ],
 "metadata": {
  "language_info": {
   "name": "python"
  }
 },
 "nbformat": 4,
 "nbformat_minor": 2
}
