{
 "cells": [
  {
   "cell_type": "markdown",
   "metadata": {},
   "source": [
    "---\n",
    "comments: True\n",
    "layout: post\n",
    "title: Checklist Blogs\n",
    "description: Checklist of Game Changes and Mastery\n",
    "permalink: /csse/javascript/Operator/Checklist/Changes\n",
    "categories: [CSSE JavaScript Blogs]\n",
    "author: Akhil Kulkarni\n",
    "---"
   ]
  },
  {
   "cell_type": "markdown",
   "metadata": {},
   "source": [
    "# Skills/Goals Table For Adventure Game\n",
    "\n",
    "| Skill                                         | Mastered (Y/N) | Rank (1-4) | Ratio | Notes                                                   |\n",
    "|-----------------------------------------------|----------------|------------|-------|---------------------------------------------------------|\n",
    "| New Level (City) Implemented                 | [Y ]           | 3          | 0.0   | Escape Key Logic                        |\n",
    "| Smooth Transtition with window alert                                 | [Y ]           | 3.5        | 0.0   | Level Ended Pop up using escape                               |\n",
    "| Changing current constants in the Player.js File              | [Y ]           | 3.5        | 0.0   | Slightly modified the jumping and height canvas ratio in player.js\n",
    "| Changed and added more questions in the city level quiz,   | [Y ]           | 4          | 0.0   | Integrate quiz logic for new levels                         |\n",
    "| Upload and render sprite logic for city background | [Y ]           | 4          | 0.0   | Already found new city background, for both levels using map background.                     |\n",
    "| Transition                                    | [ ]            | NO          | 0.0   | [Smooth transition to next level]             Have to finish GameControl.js code for city level indexing          |\n",
    "| Game Over                                     | [ ]            | 2          | 0.0   | [Implementations for escape key], have to finish the GameControl.js level indexing to apply the transition logic, restarts the level when the goal is NOT met for either of the new added levels\n",
    "                                       |\n",
    "| Buisnesman Sprite                          | [ ]            | 2        | 0.0   | [Add buisnesman player sprite] | Need to adjust scale factor\n",
    "| NPC's                   | [ ]            | 3          | 0.0   | Add NPC with NPC Class for player to collide with.    |\n",
    "| Add the feature for timer tracking and alerting the user              | [ ]            | 3          | 0.0   | Increment the Counter accordingly and integrate logic periodically and logically  with all restart and times up and NPC Collision counter alerts functionality|\n"
   ]
  },
  {
   "cell_type": "code",
   "execution_count": null,
   "metadata": {
    "vscode": {
     "languageId": "javascript"
    }
   },
   "outputs": [],
   "source": [
    "  // Check if the NPC collision condition is met for the City level\n",
    "    if (this.currentLevelIndex === 2 && this.npcCollisionCount >= this.requiredCollisions) {\n",
    "        this.handleLevelEnd();\n",
    "    } else if (this.currentLevelIndex !== 2) {\n",
    "        this.handleLevelEnd(); // For other levels, handle the level end as normal\n",
    "    }\n",
    "\n",
    "    requestAnimationFrame(this.gameLoop.bind(this));\n",
    "\n",
    "\n",
    "\n",
    "addExitKeyListener: function() {\n",
    "    document.addEventListener('keydown', (event) => {\n",
    "        if (event.key === 'Escape') {\n",
    "            // Prevent progression if the NPC collision count hasn't been reached in the City level\n",
    "            if (this.currentLevelIndex === 2 && this.npcCollisionCount < this.requiredCollisions) {\n",
    "                alert(\"You must collide with the NPC more times to proceed.\");\n",
    "                return;\n",
    "            }\n",
    "            GameEnv.continueLevel = false;\n",
    "        }\n",
    "    });\n",
    "},\n",
    "\n",
    "\n",
    "// Function to increment collision count (this should be called when the player collides with an NPC)\n",
    "incrementNpcCollisionCount: function() {\n",
    "    if (this.currentLevelIndex === 2) { // Only track collisions in the City level\n",
    "        this.npcCollisionCount++;\n",
    "    }\n",
    "}\n",
    ";\n",
    "\n",
    "// Detect window resize events and call the resize function.\n",
    "window.addEventListener('resize', GameControl.resize.bind(GameControl));\n",
    "\n",
    "export default GameControl;\n",
    "\n"
   ]
  },
  {
   "cell_type": "markdown",
   "metadata": {},
   "source": [
    "This is for the third level to check and apply the collision counter only to the second index or third level of the game in GameControl.js, since data structures like lists are 0-indexed in programming! This allows for the collision counter and level transition logic between the 3rd and 4th levels."
   ]
  }
 ],
 "metadata": {
  "language_info": {
   "name": "python"
  }
 },
 "nbformat": 4,
 "nbformat_minor": 2
}
