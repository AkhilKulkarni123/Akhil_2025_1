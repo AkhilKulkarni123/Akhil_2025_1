{
 "cells": [
  {
   "cell_type": "markdown",
   "metadata": {},
   "source": [
    "---\n",
    "comments: True\n",
    "layout: post\n",
    "title: Five Things Learned Blogs\n",
    "description: 5 Main Things Learned in the past 24 weeks of CSSE\n",
    "permalink: /csse/javascript/Five_Things_Learned\n",
    "categories: [CSSE JavaScript Blogs]\n",
    "author: Akhil Kulkarni\n",
    "---"
   ]
  },
  {
   "cell_type": "code",
   "execution_count": null,
   "metadata": {
    "vscode": {
     "languageId": "plaintext"
    }
   },
   "outputs": [],
   "source": [
    "1. Writing Clean, Modular Code for Better Maintainability and managing a group as Scrum Master\n",
    "Lesson: Breaking your code into reusable functions and classes makes it easier to read, debug, and extend.\n",
    "Explanation: Instead of writing long, complex scripts, structuring your code into smaller, well-defined functions improves clarity and reduces redundancy. Also, as the scrum-master,\n",
    "making sure everybody is contributing and on task while managing the codebase was a great thing to learn for me this trmester in terms of leadership.\n"
   ]
  },
  {
   "cell_type": "code",
   "execution_count": null,
   "metadata": {
    "vscode": {
     "languageId": "javascript"
    }
   },
   "outputs": [],
   "source": [
    "if (event.key === \"Escape\") {\n",
    "                    location.reload();\n",
    "                }"
   ]
  },
  {
   "cell_type": "markdown",
   "metadata": {},
   "source": [
    "2. Always Pulling Before Pushing to Stay Consistent\n",
    "Lesson: Regularly pulling the latest code from the repository prevents conflicts and keeps your local work up to date.\n",
    "Explanation: If multiple people (or even just you across multiple devices) are working on a project, always pulling before making changes ensures you don’t overwrite someone else’s work or create merge conflicts. I learned this the hard way.\n"
   ]
  },
  {
   "cell_type": "markdown",
   "metadata": {},
   "source": [
    "Example workflow run with git commands: \n",
    "git pull origin main  # Always pull the latest changes first\n",
    "git add .  # Stage your changes\n",
    "git commit -m \"Fixed missile collision detection\"\n",
    "git push origin main  # Push your updates\n",
    "\n"
   ]
  },
  {
   "cell_type": "markdown",
   "metadata": {},
   "source": [
    "3. Mastering Git for Collaboration and Version Control\n",
    "Lesson: Git features like forking, branching, merging, and pull requests make managing changes easier, especially in team environments.\n",
    "Explanation: Using Git properly helps track changes, experiment safely, and collaborate without issues.\n"
   ]
  },
  {
   "cell_type": "markdown",
   "metadata": {},
   "source": [
    "Example Deployement:\n",
    "\n",
    "git checkout -b feature-new-level  # Create and switch to a new branch\n",
    "# Make and test changes...\n",
    "git commit -am \"Added new game level with enemies\"\n",
    "git push origin feature-new-level  # Push feature branch\n",
    "# Create a Pull Request (PR) on GitHub and merge after review\n",
    "git checkout main\n",
    "git merge feature-new-level\n"
   ]
  },
  {
   "cell_type": "markdown",
   "metadata": {},
   "source": [
    "4. Using VS Code Extensions & Live Share for Productivity\n",
    "Lesson: Extensions like Live Share, GitLens, and Debugger tools in VS Code make development faster and more efficient.\n",
    "Explanation: VS Code is highly customizable, and using the right extensions can improve coding, debugging, and collaboration.\n",
    "Useful Extensions:\n",
    "Live Share – Allows real-time collaboration with others.\n",
    "GitLens – Enhances Git functionality in VS Code.\n",
    "ESLint/Pylint – Helps enforce coding standards.\n",
    "Debugger for Python/JavaScript – Makes testing and debugging easier.   \n",
    "Our team during Second Trimester used Live Share a lot to avoid merge conflicts and commit conflicts in general, to collaborate easier, and make developement on the game go much smoother in general."
   ]
  },
  {
   "cell_type": "markdown",
   "metadata": {},
   "source": [
    "5. Managing Large File Structures in a Big Project and Observing how they are connected in different ways using visualizations like DrawIO\n",
    "Lesson: Organizing your files logically prevents confusion and speeds up development.\n",
    "Explanation: As your project grows, grouping files into folders and following naming conventions ensures everything remains manageable.\n"
   ]
  },
  {
   "cell_type": "markdown",
   "metadata": {},
   "source": [
    "Quic example of how I learned and adapted to this complex structure, especially in the Platerformer Game:\n",
    "\n",
    "game_project/\n",
    "├── assets/          # Images, sounds, and other media\n",
    "│   ├── images/\n",
    "│   ├── sounds/\n",
    "├── src/             # Source code\n",
    "│   ├── levels/\n",
    "│   │   ├── level1.py\n",
    "│   │   ├── level2.py\n",
    "│   ├── characters.py\n",
    "│   ├── game_logic.py\n",
    "├── tests/           # Testing scripts\n",
    "├── README.md        # Documentation\n",
    "├── requirements.txt # Dependencies\n",
    "├── main.py          # Main entry point\n"
   ]
  }
 ],
 "metadata": {
  "language_info": {
   "name": "python"
  }
 },
 "nbformat": 4,
 "nbformat_minor": 2
}
