{
 "cells": [
  {
   "cell_type": "markdown",
   "metadata": {},
   "source": [
    "---\n",
    "comments: True\n",
    "layout: post\n",
    "title: Five Things Learned Blogs\n",
    "description: 5 Main Things Learned in the past 24 weeks of CSSE\n",
    "permalink: /csse/javascript/Five_Things_Learned\n",
    "categories: [Five_Things_Learned]\n",
    "author: Akhil Kulkarni\n",
    "---"
   ]
  },
  {
   "cell_type": "markdown",
   "metadata": {
    "vscode": {
     "languageId": "plaintext"
    }
   },
   "source": [
    "1. Writing Clean, Modular Code for Better Maintainability and managing a group as Scrum Master in the Platformer Game\n",
    "Lesson: Breaking your code into reusable functions and classes makes it easier to read, debug, and extend.\n",
    "Explanation: Instead of writing long, complex scripts, structuring your code into smaller, well-defined functions improves clarity and reduces redundancy. Also, as the scrum-master,\n",
    "making sure everybody is contributing and on task while managing the codebase was a great thing to learn for me this trmester in terms of leadership, and also learned about managing game levels and working on transiions, restarting game pages, and changing sprites by calculating width, height, scale factor, etc. Also learned about player movement using switcn case like WASD keys.\n",
    "Learning to make methods ONLY have 1 function for simplicity and calling to avoid reduntant operations and make the code harder to parse in the large codebase with the dozens of files in it."
   ]
  },
  {
   "cell_type": "code",
   "execution_count": null,
   "metadata": {
    "vscode": {
     "languageId": "javascript"
    }
   },
   "outputs": [],
   "source": [
    "if (event.key === \"Escape\") {\n",
    "                    location.reload();\n",
    "                }"
   ]
  },
  {
   "cell_type": "markdown",
   "metadata": {},
   "source": [
    "2. Always Pulling Before Pushing to Stay Consistent\n",
    "Lesson: Regularly pulling the latest code from the repository prevents conflicts and keeps your local work up to date.\n",
    "Explanation: If multiple people (or even just you across multiple devices) are working on a project, always pulling before making changes ensures you don’t overwrite someone else’s work or create merge conflicts. I learned this the hard way, by often editing many notebooks/files and realizing that I hadn't git pulled.\n"
   ]
  },
  {
   "cell_type": "markdown",
   "metadata": {},
   "source": [
    "3. Mastering Git for Collaboration and Version Control\n",
    "Lesson: Git features like forking, branching, merging, and pull requests make managing changes easier, especially in team environments.\n",
    "Explanation: Using Git properly helps track changes, experiment safely, and collaborate without issues.\n",
    "We forked a lot of the platformer game and portfolio_2025 for out own edits on notebooks, and also had branches which I managed as scrum master in out forked repos. We also dealt a lot with Pull Requests with the forked repos especially in the main branch of platformer."
   ]
  },
  {
   "cell_type": "markdown",
   "metadata": {},
   "source": [
    "Example Deployement:\n",
    "\n",
    "git checkout -b feature-new-level  # Create and switch to a new branch\n",
    "# Make and test changes...\n",
    "git commit -am \"Added new game level with enemies\"\n",
    "git push origin feature-new-level  # Push feature branch\n",
    "# Create a Pull Request (PR) on GitHub and merge after review\n",
    "git checkout main\n",
    "git merge feature-new-level\n",
    "I learned a lot of testing code using make and local host and ensuring cloud never breaks, lesrned how to use bundle, venv, and make for server adress in VS Code using extensions like Live Share with my group to mke collaboration easier, and test changes quickly without breaking main on the cloud."
   ]
  },
  {
   "cell_type": "markdown",
   "metadata": {},
   "source": [
    "4. Using VS Code Extensions & Live Share for Productivity\n",
    "Lesson: Extensions like Live Share, GitLens, and Debugger tools in VS Code make development faster and more efficient.\n",
    "Explanation: VS Code is highly customizable, and using the right extensions can improve coding, debugging, and collaboration.\n",
    "Useful Extensions:\n",
    "Live Share – Allows real-time collaboration with others.\n",
    "GitLens – Enhances Git functionality in VS Code.\n",
    "ESLint/Pylint – Helps enforce coding standards.\n",
    "Debugger for Python/JavaScript – Makes testing and debugging easier.   \n",
    "Our team during Second Trimester used Live Share a lot to avoid merge conflicts and commit conflicts in general, to collaborate easier, and make developement on the game go much smoother in general."
   ]
  },
  {
   "cell_type": "markdown",
   "metadata": {},
   "source": [
    "5. Managing Large File Structures in a Big Project and Observing how they are connected in different ways using visualizations like DrawIO\n",
    "Lesson: Organizing your files logically prevents confusion and speeds up development.\n",
    "Explanation: As your project grows, grouping files into folders and following naming conventions ensures everything remains manageable and easy to use.\n"
   ]
  },
  {
   "cell_type": "markdown",
   "metadata": {},
   "source": [
    "Quic example of how I learned and adapted to this complex structure, especially in the Platerformer Game:\n",
    "\n",
    "game_project/\n",
    "├── assets/          # Images, sounds, and other media\n",
    "│   ├── images/\n",
    "│   ├── sounds/\n",
    "├── src/             # Source code\n",
    "│   ├── levels/\n",
    "│   │   ├── level1.py\n",
    "│   │   ├── level2.py\n",
    "│   ├── characters.py\n",
    "│   ├── game_logic.py\n",
    "├── tests/           # Testing scripts\n",
    "├── README.md        # Documentation\n",
    "├── requirements.txt # Dependencies\n",
    "├── main.py          # Main entry point\n"
   ]
  },
  {
   "cell_type": "markdown",
   "metadata": {},
   "source": [
    "We managed a lot of files in our games, especially Platformer, which had a lot like GameSetter, Player, and GameObject files for rendering, logic, and sprites just to name a few, and we had to understand their strcuture, how they worked, and how they were all connected in the main, big game which was a great new learning experience. DrawIO also helped with this to visualize all the files and new files/software created to see how it connected with the game as a whole, and what exactly I added connected with which part of the game. Additionally, AdventureGame also had some nice features with its codebase and several files, which DrawIO also helped with. For example, GameControl.js had all of the levels and thr transtitions, GameEnv and GameObject for logic, rendering, and drawing for all of the levels, each level had its own js file for individual logic and sprites/background individually for the uniqueness of the level, of which I added two more own with their own unique seperaate logic. Player.js had movement of the user sprite and collision logic with the NPC in NPC.js, and so on and os forth on Prompt.js and more, which you can see in the game folder (Explain more during presentation). It was cool seeing how all of these files were connected and how they all contributed in their own ways to complete the game and make it fully functional in all properties, whether it be rendering, logic, transitions, or anything at all in the game!"
   ]
  }
 ],
 "metadata": {
  "language_info": {
   "name": "python"
  }
 },
 "nbformat": 4,
 "nbformat_minor": 2
}
