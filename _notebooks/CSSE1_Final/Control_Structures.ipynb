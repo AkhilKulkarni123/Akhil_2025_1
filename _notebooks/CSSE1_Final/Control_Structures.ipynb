{
 "cells": [
  {
   "cell_type": "markdown",
   "metadata": {},
   "source": [
    "---\n",
    "comments: True\n",
    "layout: post\n",
    "title: Control Structures Blogs\n",
    "description: An intro to data abstraction\n",
    "permalink: /csse/javascript/Control_Structures\n",
    "categories: [CSSE JavaScript Blogs]\n",
    "author: Akhil Kulkarni\n",
    "---"
   ]
  },
  {
   "cell_type": "markdown",
   "metadata": {},
   "source": [
    "1. Conditional Statements (if, else, else if)\n",
    "Conditional statements allow the program to execute different blocks of code based on specific conditions."
   ]
  },
  {
   "cell_type": "code",
   "execution_count": null,
   "metadata": {
    "vscode": {
     "languageId": "javascript"
    }
   },
   "outputs": [],
   "source": [
    "let score = 85;\n",
    "\n",
    "if (score >= 90) {\n",
    "    console.log(\"You got an A!\");\n",
    "} else if (score >= 80) {\n",
    "    console.log(\"You got a B!\");\n",
    "} else {\n",
    "    console.log(\"You need to study more.\");\n",
    "}\n"
   ]
  },
  {
   "cell_type": "markdown",
   "metadata": {},
   "source": [
    "2. Nested Conditions\n",
    "A nested condition is when one if statement is placed inside another if statement to check multiple conditions."
   ]
  },
  {
   "cell_type": "code",
   "execution_count": null,
   "metadata": {
    "vscode": {
     "languageId": "javascript"
    }
   },
   "outputs": [],
   "source": [
    "let hasTicket = true;\n",
    "let age = 17;\n",
    "\n",
    "if (hasTicket) {\n",
    "    if (age >= 18) {\n",
    "        console.log(\"You can watch the movie.\");\n",
    "    } else {\n",
    "        console.log(\"You need an adult with you.\");\n",
    "    }\n",
    "} else {\n",
    "    console.log(\"You need to buy a ticket first.\");\n",
    "}\n"
   ]
  },
  {
   "cell_type": "markdown",
   "metadata": {},
   "source": [
    "3. Loops (for, while, do-while)\n",
    "Loops help repeat a block of code multiple times until a condition is met."
   ]
  },
  {
   "cell_type": "code",
   "execution_count": null,
   "metadata": {
    "vscode": {
     "languageId": "javascript"
    }
   },
   "outputs": [],
   "source": [
    "for (let i = 1; i <= 5; i++) {\n",
    "    console.log(\"Iteration number: \" + i);\n",
    "}\n"
   ]
  },
  {
   "cell_type": "markdown",
   "metadata": {},
   "source": [
    "Control structures help me manage the flow of execution in my game, allowing me to make decisions and repeat actions when needed.\n",
    "\n",
    "How I Use Control Structures in My Game Level:\n",
    "Conditional Statements (if, else, else if):\n",
    "These let me execute different code blocks based on conditions.\n",
    "\n"
   ]
  },
  {
   "cell_type": "code",
   "execution_count": null,
   "metadata": {
    "vscode": {
     "languageId": "javascript"
    }
   },
   "outputs": [],
   "source": [
    "if (answer.trim().toLowerCase() !== questions[i].a) {\n",
    "    correct = false;\n",
    "}\n"
   ]
  },
  {
   "cell_type": "markdown",
   "metadata": {},
   "source": [
    "In my game: I use conditions to check if the player’s quiz answers are correct. If they get everything right, they receive a congratulatory message. Otherwise, I display an alert letting them know they need to try again."
   ]
  },
  {
   "cell_type": "markdown",
   "metadata": {},
   "source": [
    "Nested Conditions:\n",
    "Sometimes, I need multiple layers of decision-making, like conditions within conditions:"
   ]
  },
  {
   "cell_type": "code",
   "execution_count": null,
   "metadata": {
    "vscode": {
     "languageId": "javascript"
    }
   },
   "outputs": [],
   "source": [
    "if (correct) {\n",
    "    alert(\"Wow, all answers are correct!\");\n",
    "    alert(\"Congrats, you are a smarty pants!\");\n",
    "} else {\n",
    "    alert(\"Incorrect answers! Press Esc to restart the game.\");\n",
    "    document.addEventListener(\"keydown\", (event) => {\n",
    "        if (event.key === \"Escape\") {\n",
    "            location.reload();\n",
    "        }\n",
    "    });\n",
    "}\n"
   ]
  },
  {
   "cell_type": "markdown",
   "metadata": {},
   "source": [
    "In my game: If the player gets all answers right, I trigger multiple alerts. But if they get anything wrong, I add an event listener that waits for them to press \"Escape\" to reload the game.\n",
    "\n"
   ]
  },
  {
   "cell_type": "markdown",
   "metadata": {},
   "source": [
    "Loops (for, while, do-while):\n",
    "These allow me to repeat a block of code multiple times."
   ]
  },
  {
   "cell_type": "code",
   "execution_count": null,
   "metadata": {
    "vscode": {
     "languageId": "javascript"
    }
   },
   "outputs": [],
   "source": [
    "for (let i = 0; i < questions.length; i++) {\n",
    "    let answer = prompt(questions[i].q);\n",
    "    if (answer.trim().toLowerCase() !== questions[i].a) {\n",
    "        correct = false;\n",
    "    }\n",
    "}\n"
   ]
  },
  {
   "cell_type": "markdown",
   "metadata": {},
   "source": [
    "In my game: I use a for loop to cycle through all the quiz questions, prompting the player and checking their answers."
   ]
  }
 ],
 "metadata": {
  "language_info": {
   "name": "python"
  }
 },
 "nbformat": 4,
 "nbformat_minor": 2
}
