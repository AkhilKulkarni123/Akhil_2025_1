{
 "cells": [
  {
   "cell_type": "raw",
   "metadata": {},
   "source": [
    "---\n",
    "comments: True\n",
    "layout: post\n",
    "title: Operators Blogs\n",
    "description: Operators Blog Usage in Our Game\n",
    "permalink: /csse/javascript/Operators\n",
    "categories: [CSSE1_Final]\n",
    "author: Akhil Kulkarni\n",
    "---"
   ]
  },
  {
   "cell_type": "markdown",
   "metadata": {},
   "source": [
    "Operators are essential in JavaScript programming, allowing us to manipulate data, perform calculations, and make logical decisions. In this lesson, we will explore three key types of operators:\n",
    "\n",
    "String Operations\n",
    "Mathematical Operations\n",
    "Boolean Expressions"
   ]
  },
  {
   "cell_type": "markdown",
   "metadata": {},
   "source": [
    "1. String Operations\n",
    "String operations are used to manipulate text. Some common string operators include concatenation (+), template literals (```), and string methods.\n",
    "\n",
    "Example: Character Greetings in a Game\n",
    "In my game, NPCs (Non-Player Characters) often greet players using text. We can dynamically construct greetings using string operators."
   ]
  },
  {
   "cell_type": "code",
   "execution_count": null,
   "metadata": {
    "vscode": {
     "languageId": "javascript"
    }
   },
   "outputs": [],
   "source": [
    "const playerName = \"Chill Guy\";\n",
    "const npcName = \"Tux\";\n",
    "\n",
    "// Concatenation using the + operator\n",
    "const greeting1 = \"Hello \" + playerName + \"! Welcome to the City!\";\n",
    "console.log(greeting1);\n",
    "\n",
    "// Using Template Literals\n",
    "const greeting2 = `Hi ${npcName}, glad to see you in the Magic Realm!`;\n",
    "console.log(greeting2);\n",
    "\n",
    "// String Length\n",
    "console.log(`The player's name has ${playerName.length} characters.`);\n",
    "\n",
    "// Uppercase and Lowercase Manipulation\n",
    "console.log(playerName.toUpperCase()); // Output: CHILL GUY\n",
    "console.log(npcName.toLowerCase());    // Output: tux\n"
   ]
  },
  {
   "cell_type": "markdown",
   "metadata": {},
   "source": [
    "2. Mathematical Operations\n",
    "Mathematical operators allow us to perform calculations, such as movement, collision detection, and health tracking in a game.\n",
    "\n",
    "Example: Player Movement and Health System\n",
    "In a game, we might calculate a player’s new position and adjust their health when colliding with obstacles."
   ]
  },
  {
   "cell_type": "code",
   "execution_count": null,
   "metadata": {
    "vscode": {
     "languageId": "javascript"
    }
   },
   "outputs": [],
   "source": [
    "let playerX = 10;\n",
    "let playerY = 20;\n",
    "const stepSize = 5;\n",
    "\n",
    "// Move the player using arithmetic operators\n",
    "playerX += stepSize;  // Moves player right\n",
    "playerY -= stepSize;  // Moves player up\n",
    "\n",
    "console.log(`New Player Position: (${playerX}, ${playerY})`);\n",
    "\n",
    "// Health calculation when taking damage\n",
    "let playerHealth = 100;\n",
    "const damage = 20;\n",
    "\n",
    "playerHealth -= damage; // Reduce health\n",
    "console.log(`Player Health: ${playerHealth}`);\n",
    "\n",
    "// Using modulus to check if health is a multiple of 10\n",
    "if (playerHealth % 10 === 0) {\n",
    "  console.log(\"Health is a multiple of 10!\");\n",
    "}\n"
   ]
  },
  {
   "cell_type": "markdown",
   "metadata": {},
   "source": [
    "Other Useful Math Operators\n",
    "+ (Addition)\n",
    "- (Subtraction)\n",
    "* (Multiplication)\n",
    "/ (Division)\n",
    "% (Modulus - remainder of division)\n",
    "** (Exponentiation, e.g., 2 ** 3 → 8)"
   ]
  },
  {
   "cell_type": "markdown",
   "metadata": {},
   "source": [
    "3. Boolean Expressions\n",
    "Boolean expressions return true or false and are used in game logic, such as collision detection, quest completion, or win conditions.\n",
    "\n",
    "Example: Collision Detection\n",
    "In your game, a collision happens when the player and NPC occupy the same space."
   ]
  },
  {
   "cell_type": "code",
   "execution_count": null,
   "metadata": {
    "vscode": {
     "languageId": "javascript"
    }
   },
   "outputs": [],
   "source": [
    "const player = { x: 50, y: 100, width: 50, height: 50 };\n",
    "const npc = { x: 50, y: 100, width: 50, height: 50 };\n",
    "\n",
    "// Checking if the player collides with the NPC\n",
    "const isColliding = \n",
    "    player.x < npc.x + npc.width &&\n",
    "    player.x + player.width > npc.x &&\n",
    "    player.y < npc.y + npc.height &&\n",
    "    player.y + player.height > npc.y;\n",
    "\n",
    "console.log(`Collision detected: ${isColliding}`);\n",
    "\n",
    "// Conditional Statements using Boolean Operators\n",
    "if (isColliding) {\n",
    "    console.log(\"You have collided with an NPC!\");\n",
    "} else {\n",
    "    console.log(\"No collision detected. Keep exploring!\");\n",
    "}\n",
    "// THIS IS VERY SIMILAR TO THE LOGIC I HAVE IN MY GAME"
   ]
  },
  {
   "cell_type": "markdown",
   "metadata": {},
   "source": [
    "Boolean Operators in Game Logic\n",
    "&& (AND): Both conditions must be true\n",
    "if (playerHealth > 0 && hasKey) {...}\n",
    "|| (OR): At least one condition must be true\n",
    "if (hasSword || hasShield) {...}\n",
    "! (NOT): Inverts a boolean value\n",
    "if (!isGameOver) {...}\n",
    "Conclusion\n",
    "Understanding operators in JavaScript is crucial for game mechanics, logic handling, and dynamic interactions. Whether manipulating strings for character dialogues, performing math operations for movement and health, or using boolean expressions for collision detection, operators play a vital role in game development."
   ]
  }
 ],
 "metadata": {
  "language_info": {
   "name": "python"
  }
 },
 "nbformat": 4,
 "nbformat_minor": 2
}
