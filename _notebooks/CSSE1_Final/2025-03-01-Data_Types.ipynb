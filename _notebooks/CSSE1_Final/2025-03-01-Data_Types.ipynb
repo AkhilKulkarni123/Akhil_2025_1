{
 "cells": [
  {
   "cell_type": "raw",
   "metadata": {},
   "source": [
    "---\n",
    "comments: True\n",
    "layout: post\n",
    "title: Data Types Blogs\n",
    "description: Data Types Blog Usage in Our Game\n",
    "permalink: /csse/javascript/Data_Types\n",
    "categories: [CSSE1_Final]\n",
    "author: Akhil Kulkarni\n",
    "---"
   ]
  },
  {
   "cell_type": "markdown",
   "metadata": {},
   "source": [
    "Here are simple definitions for all five topics:\n",
    "\n",
    "Numbers – A data type used for mathematical calculations, including whole numbers (integers) and decimals (floating-point numbers).\n",
    "Example: let age = 15;\n",
    "\n",
    "Strings – A sequence of characters used to represent text, enclosed in quotes (\"\" or '').\n",
    "Example: let name = \"Akhil\";\n",
    "\n",
    "Booleans – A data type that represents either true or false, commonly used for decision-making in programs.\n",
    "Example: let isStudent = true;\n",
    "\n",
    "Arrays – A collection of multiple values stored in a single variable, usually enclosed in square brackets ([]).\n",
    "Example: let fruits = [\"apple\", \"banana\", \"orange\"];\n",
    "\n",
    "JSON Objects – A way to store and organize data in key-value pairs, often used for data exchange between applications. Example: \n",
    "{\n",
    "  \"name\": \"Akhil\",\n",
    "  \"age\": 15,\n",
    "  \"isStudent\": true\n",
    "}\n"
   ]
  },
  {
   "cell_type": "markdown",
   "metadata": {},
   "source": [
    "Understanding different data types is crucial for handling game logic efficiently. In my GameLevelCity class, I use various data types to store information about the environment, player, and NPCs.\n",
    "\n",
    "How I Use Data Types in My Game Level:\n",
    "Numbers\n",
    "Numbers are used for calculations, dimensions, timers, and movement."
   ]
  },
  {
   "cell_type": "code",
   "execution_count": null,
   "metadata": {
    "vscode": {
     "languageId": "javascript"
    }
   },
   "outputs": [],
   "source": [
    "const STOCKGUY_SCALE_FACTOR = 4;\n",
    "this.timerDuration = 70000; // 70 seconds\n"
   ]
  },
  {
   "cell_type": "markdown",
   "metadata": {},
   "source": [
    "In my game:\n",
    "\n",
    "I use numbers to scale the player sprite (STOCKGUY_SCALE_FACTOR).\n",
    "I set a timerDuration of 70 seconds to track how long the player has to complete the level."
   ]
  },
  {
   "cell_type": "markdown",
   "metadata": {},
   "source": [
    "Strings\n",
    "Strings store character-based information, like names, greetings, and image paths."
   ]
  },
  {
   "cell_type": "code",
   "execution_count": null,
   "metadata": {
    "vscode": {
     "languageId": "javascript"
    }
   },
   "outputs": [],
   "source": [
    "const image_src_city = path + \"/images/gamify/map.jpg\";\n",
    "const sprite_data_tux = {  \n",
    "    id: 'Tux',  \n",
    "    greeting: \"Hi I am Tux, the Linux mascot. I am very happy to spend some Linux shell time with you!\"\n",
    "};\n"
   ]
  },
  {
   "cell_type": "markdown",
   "metadata": {},
   "source": [
    "In my game:\n",
    "\n",
    "The image_src_city string stores the path to the level background.\n",
    "NPCs have id and greeting strings to provide character dialogue."
   ]
  },
  {
   "cell_type": "markdown",
   "metadata": {},
   "source": [
    "Booleans\n",
    "Booleans help me track conditions like whether an event should happen or not."
   ]
  },
  {
   "cell_type": "code",
   "execution_count": null,
   "metadata": {
    "vscode": {
     "languageId": "javascript"
    }
   },
   "outputs": [],
   "source": [
    "let correct = true;  \n",
    "if (elapsedTime < 18000) {  \n",
    "    alert(\"You need more knowledge...\");  \n",
    "    correct = false;\n",
    "}\n"
   ]
  },
  {
   "cell_type": "markdown",
   "metadata": {},
   "source": [
    "In my game:\n",
    "\n",
    "I use a boolean (correct) to track if the player has enough knowledge.\n",
    "If the player presses \"Escape\" too early, I set correct to false and display a retry message."
   ]
  },
  {
   "cell_type": "markdown",
   "metadata": {},
   "source": [
    "Arrays\n",
    "Arrays allow me to store multiple items, like NPCs and game objects."
   ]
  },
  {
   "cell_type": "code",
   "execution_count": null,
   "metadata": {
    "vscode": {
     "languageId": "javascript"
    }
   },
   "outputs": [],
   "source": [
    "this.objects = [\n",
    "    { class: Background, data: image_data_city },\n",
    "    { class: Player, data: sprite_data_stockguy },\n",
    "    { class: Npc, data: sprite_data_tux },\n",
    "    { class: Npc, data: sprite_data_octocat }\n",
    "];\n"
   ]
  },
  {
   "cell_type": "markdown",
   "metadata": {},
   "source": [
    "In my game:\n",
    "\n",
    "The objects array contains all elements in the level, including the background, player, and NPCs.\n"
   ]
  },
  {
   "cell_type": "markdown",
   "metadata": {},
   "source": [
    "JSON Objects\n",
    "JSON-like objects store structured data, making it easy to access related properties."
   ]
  },
  {
   "cell_type": "code",
   "execution_count": null,
   "metadata": {
    "vscode": {
     "languageId": "javascript"
    }
   },
   "outputs": [],
   "source": [
    "const sprite_data_octocat = {  \n",
    "    id: 'Octocat',  \n",
    "    greeting: \"Hi I am Octocat! I am the GitHub collaboration mascot!\",  \n",
    "    src: path + \"/images/gamify/octocat.png\",  \n",
    "    SCALE_FACTOR: 10,  \n",
    "    INIT_POSITION: { x: (width / 4), y: (height / 4) },  \n",
    "    hitbox: { widthPercentage: 0.3, heightPercentage: 0.3 }  \n",
    "};\n"
   ]
  },
  {
   "cell_type": "markdown",
   "metadata": {},
   "source": [
    "In my game:\n",
    "\n",
    "sprite_data_octocat is an object that holds multiple properties like ID, greeting, sprite path, scale, and initial position."
   ]
  }
 ],
 "metadata": {
  "language_info": {
   "name": "python"
  }
 },
 "nbformat": 4,
 "nbformat_minor": 2
}
